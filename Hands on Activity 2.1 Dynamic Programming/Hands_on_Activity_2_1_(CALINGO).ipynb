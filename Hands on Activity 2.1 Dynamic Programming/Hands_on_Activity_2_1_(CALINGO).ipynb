{
  "cells": [
    {
      "cell_type": "markdown",
      "id": "f1c6ec95",
      "metadata": {
        "id": "f1c6ec95"
      },
      "source": [
        "# Hands-on Activity 2.1 : Dynamic Programming"
      ]
    },
    {
      "cell_type": "markdown",
      "id": "56dacba1",
      "metadata": {
        "id": "56dacba1"
      },
      "source": [
        "#### Objective(s):\n",
        "\n",
        "This activity aims to demonstrate how to use dynamic programming to solve problems."
      ]
    },
    {
      "cell_type": "markdown",
      "id": "e51f84e3",
      "metadata": {
        "id": "e51f84e3"
      },
      "source": [
        "#### Intended Learning Outcomes (ILOs):\n",
        "* Differentiate recursion method from dynamic programming to solve problems.\n",
        "* Demonstrate how to  solve real-world problems using dynamic programming\n"
      ]
    },
    {
      "cell_type": "markdown",
      "id": "39047b1a",
      "metadata": {
        "id": "39047b1a"
      },
      "source": [
        "#### Resources:\n",
        "* Jupyter Notebook\n"
      ]
    },
    {
      "cell_type": "markdown",
      "id": "cb5360c0",
      "metadata": {
        "id": "cb5360c0"
      },
      "source": [
        "#### Procedures:"
      ]
    },
    {
      "cell_type": "markdown",
      "id": "206a914c",
      "metadata": {
        "id": "206a914c"
      },
      "source": [
        "1. Create a code that demonstrate how to use recursion method to solve problem"
      ]
    },
    {
      "cell_type": "code",
      "source": [
        "#FINDING A SUM OF A NUMBER FROM 1 UP TO THE INPUTTED NUMBER USING RECURSION\n",
        "def summation(n):\n",
        "  if n == 1:\n",
        "    return 1\n",
        "  if n == 0:\n",
        "    return 0\n",
        "  else:\n",
        "    answer = n + summation(n-1)\n",
        "    return answer\n",
        "\n",
        "number = int(input(\"Enter a number to find its sum from 0 up to your number: \"))\n",
        "print(f\"The sum from 0 to {number} is:\",summation(number))"
      ],
      "metadata": {
        "colab": {
          "base_uri": "https://localhost:8080/"
        },
        "id": "ZeOkH2eiJC1B",
        "outputId": "365d43ce-0376-4b94-f46f-60e024c52c21"
      },
      "id": "ZeOkH2eiJC1B",
      "execution_count": null,
      "outputs": [
        {
          "output_type": "stream",
          "name": "stdout",
          "text": [
            "Enter a number to find its sum from 0 up to your number: 10\n",
            "The sum from 0 to 10 is: 55\n"
          ]
        }
      ]
    },
    {
      "cell_type": "markdown",
      "id": "5744a876",
      "metadata": {
        "id": "5744a876"
      },
      "source": [
        "2. Create a program codes that demonstrate how to use dynamic programming to solve the same problem"
      ]
    },
    {
      "cell_type": "code",
      "source": [
        "#FINDING THE SUM OF A NUMBER FROM 1 UP TO THE INPUTTED NUMBER USING DYNAMIC PROGRAMMING (MEMOIZATION)\n",
        "memo = {}\n",
        "def summation_memoization(n, memo):\n",
        "  if n == 1:\n",
        "    return 1\n",
        "  if n == 0:\n",
        "    return 0\n",
        "  if n in memo:\n",
        "    return memo[n]\n",
        "  else:\n",
        "    answer = n+summation_memoization(n-1, memo)\n",
        "    memo[n] = answer\n",
        "    return answer\n",
        "\n",
        "number = int(input(\"Enter a number to find its sum from 0 up to your number: \"))\n",
        "print(f\"The sum from 0 to {number} is:\",summation_memoization(number, memo))"
      ],
      "metadata": {
        "id": "yKgbCNOSL-KJ",
        "colab": {
          "base_uri": "https://localhost:8080/"
        },
        "outputId": "51b7e253-d0a9-4215-9d59-315eb99684dc"
      },
      "id": "yKgbCNOSL-KJ",
      "execution_count": null,
      "outputs": [
        {
          "output_type": "stream",
          "name": "stdout",
          "text": [
            "Enter a number to find its sum from 0 up to your number: 200\n",
            "The sum from 0 to 200 is: 20100\n"
          ]
        }
      ]
    },
    {
      "cell_type": "markdown",
      "id": "8e3f6572",
      "metadata": {
        "id": "8e3f6572"
      },
      "source": [
        "##### Question:\n",
        "Explain the difference of using the recursion from dynamic programming using the given sample codes to solve the same problem"
      ]
    },
    {
      "cell_type": "markdown",
      "id": "b5a71b53",
      "metadata": {
        "id": "b5a71b53"
      },
      "source": [
        "[• In recurssion, we use the function again, if we somehow encounter the same equation that has been solved before, it will get solved again because of the recursion. In the memoization, the equation that has been solved is appended to a dictionary, if the code encounters the same equation, it will call the dictionary key and return its value.](https://)"
      ]
    },
    {
      "cell_type": "markdown",
      "id": "60074702",
      "metadata": {
        "id": "60074702"
      },
      "source": [
        "3. Create a sample program codes to simulate bottom-up dynamic programming"
      ]
    },
    {
      "cell_type": "code",
      "source": [
        "#FINDING THE SUM OF A NUMBER FROM 1 UP TO THE INPUTTED NUMBER USING DYNAMIC PROGRAMMING (TABULATION)\n",
        "def summation_tabulation(n):\n",
        "  if n == 0:\n",
        "    print(\"Error!\")\n",
        "  else:\n",
        "    table = [0] * (n+1)\n",
        "\n",
        "    table[0] = 0\n",
        "    for x in range(1, n+1):\n",
        "        table[x] = table[x-1] + x\n",
        "    return table[n]\n",
        "\n",
        "\n",
        "number = int(input(\"Enter a number to find its sum from 0 up to your number: \"))\n",
        "print(f\"The sum from 0 to {number} is:\",summation_tabulation(number))"
      ],
      "metadata": {
        "colab": {
          "base_uri": "https://localhost:8080/"
        },
        "id": "gLLPd6P6yV4Z",
        "outputId": "5338126a-4506-451a-b8ee-d27889c491c7"
      },
      "id": "gLLPd6P6yV4Z",
      "execution_count": null,
      "outputs": [
        {
          "output_type": "stream",
          "name": "stdout",
          "text": [
            "Enter a number to find its sum from 0 up to your number: 10\n",
            "The sum from 0 to 10 is: 55\n"
          ]
        }
      ]
    },
    {
      "cell_type": "markdown",
      "id": "e629eb89",
      "metadata": {
        "id": "e629eb89"
      },
      "source": [
        "4. Create a sample program codes that simulate tops-down dynamic programming"
      ]
    },
    {
      "cell_type": "code",
      "source": [
        "#FINDING THE SUM OF A NUMBER FROM 1 UP TO THE INPUTTED NUMBER USING DYNAMIC PROGRAMMING (MEMOIZATION)\n",
        "memo = {}\n",
        "def summation(n, memo):\n",
        "  if n == 1:\n",
        "    return 1\n",
        "  if n == 0:\n",
        "    return 0\n",
        "  if n in memo:\n",
        "    return memo[n]\n",
        "  else:\n",
        "    answer = n+summation(n-1, memo)\n",
        "    memo[n] = answer\n",
        "    return answer\n",
        "\n",
        "number = int(input(\"Enter a number to find its sum from 0 up to your number: \"))\n",
        "print(f\"The sum from 0 to {number} is:\",summation(number, memo))"
      ],
      "metadata": {
        "colab": {
          "base_uri": "https://localhost:8080/"
        },
        "id": "uLCU5fyKygTQ",
        "outputId": "4bb5c8f3-f8c8-4e3c-ce9a-f1bbacb558a4"
      },
      "id": "uLCU5fyKygTQ",
      "execution_count": null,
      "outputs": [
        {
          "output_type": "stream",
          "name": "stdout",
          "text": [
            "Enter a number to find its sum from 0 up to your number: 50\n",
            "The sum from 0 to 50 is: 1275\n"
          ]
        }
      ]
    },
    {
      "cell_type": "markdown",
      "id": "c2e2434c",
      "metadata": {
        "id": "c2e2434c"
      },
      "source": [
        "#### Question:\n",
        " Explain the difference between bottom-up from top-down dynamic programming using the given sample codes"
      ]
    },
    {
      "cell_type": "markdown",
      "id": "ac97e063",
      "metadata": {
        "id": "ac97e063"
      },
      "source": [
        "[In the top-down dynamic programming, they approach the problem using recursions, while the bottom-up dynamic programming, they approach the problem using iterations. ](https://)"
      ]
    },
    {
      "cell_type": "markdown",
      "id": "f7a5bfbd",
      "metadata": {
        "id": "f7a5bfbd"
      },
      "source": [
        "0/1 Knapsack Problem\n",
        "\n",
        "* Analyze three different techniques to solve knapsacks problem\n",
        "1. Recursion\n",
        "2. Dynamic Programming\n",
        "3. Memoization"
      ]
    },
    {
      "cell_type": "code",
      "source": [
        "#sample code for knapsack problem using recursion\n",
        "def rec_knapSack(w, wt, val, n):\n",
        "\n",
        "  #base case\n",
        "  #defined as nth item is empty;\n",
        "  #or the capacity w is 0\n",
        "  if n == 0 or w == 0:\n",
        "    return 0\n",
        "\n",
        "  #if weight of the nth item is more than\n",
        "  #the capacity W, then this item cannot be included\n",
        "  #as part of the optimal solution\n",
        "  if(wt[n-1] > w):\n",
        "    return rec_knapSack(w, wt, val, n-1)\n",
        "\n",
        "  #return the maximum of the two cases:\n",
        "  # (1) include the nth item\n",
        "  # (2) don't include the nth item\n",
        "  else:\n",
        "    return max(\n",
        "        val[n-1] + rec_knapSack(\n",
        "            w-wt[n-1], wt, val, n-1),\n",
        "            rec_knapSack(w, wt, val, n-1))"
      ],
      "metadata": {
        "id": "15SVHF85_1Ji"
      },
      "id": "15SVHF85_1Ji",
      "execution_count": null,
      "outputs": []
    },
    {
      "cell_type": "code",
      "source": [
        "#To test:\n",
        "val = [60, 100, 120] #values for the items\n",
        "wt = [10, 20, 30] #weight of the items\n",
        "w = 50 #knapsack weight capacity\n",
        "n = len(val) #number of items\n",
        "\n",
        "rec_knapSack(w, wt, val, n)"
      ],
      "metadata": {
        "colab": {
          "base_uri": "https://localhost:8080/"
        },
        "id": "b1D3YRJ7cMqU",
        "outputId": "9d0474d8-7600-44fb-a5f8-f1debd8b4063"
      },
      "id": "b1D3YRJ7cMqU",
      "execution_count": null,
      "outputs": [
        {
          "output_type": "execute_result",
          "data": {
            "text/plain": [
              "220"
            ]
          },
          "metadata": {},
          "execution_count": 2
        }
      ]
    },
    {
      "cell_type": "code",
      "source": [
        "#Dynamic Programming for the Knapsack Problem\n",
        "def DP_knapSack(w, wt, val, n):\n",
        "  #create the table\n",
        "  table = [[0 for x in range(w+1)] for x in range (n+1)]\n",
        "\n",
        "  #populate the table in a bottom-up approach\n",
        "  for i in range(n+1):\n",
        "    for w in range(w+1):\n",
        "      if i == 0 or w == 0:\n",
        "        table[i][w] = 0\n",
        "      elif wt[i-1] <= w:\n",
        "        table[i][w] = max(val[i-1] + table[i-1][w-wt[i-1]],\n",
        "                          table[i-1][w])\n",
        "  return table[n][w]\n",
        "val = [60, 100, 120]\n",
        "wt = [10, 20, 30]\n",
        "w = 50\n",
        "n = len(val)\n",
        "\n",
        "DP_knapSack(w, wt, val, n)"
      ],
      "metadata": {
        "id": "A8OU1sUJ_1ES",
        "colab": {
          "base_uri": "https://localhost:8080/"
        },
        "outputId": "30fa323f-fbe5-4732-9768-abce15e3b4a5"
      },
      "id": "A8OU1sUJ_1ES",
      "execution_count": null,
      "outputs": [
        {
          "output_type": "execute_result",
          "data": {
            "text/plain": [
              "220"
            ]
          },
          "metadata": {},
          "execution_count": 10
        }
      ]
    },
    {
      "cell_type": "code",
      "source": [
        "#To test:\n",
        "val = [60, 100, 120]\n",
        "wt = [10, 20, 30]\n",
        "w = 50\n",
        "n = len(val)\n",
        "\n",
        "DP_knapSack(w, wt, val, n)"
      ],
      "metadata": {
        "colab": {
          "base_uri": "https://localhost:8080/"
        },
        "id": "GUNeEPHrd-N1",
        "outputId": "ac48ee92-82ac-42bd-9ccc-60ba983c1242"
      },
      "id": "GUNeEPHrd-N1",
      "execution_count": null,
      "outputs": [
        {
          "output_type": "execute_result",
          "data": {
            "text/plain": [
              "220"
            ]
          },
          "metadata": {},
          "execution_count": 18
        }
      ]
    },
    {
      "cell_type": "code",
      "source": [
        "#Sample for top-down DP approach (memoization)\n",
        "#initialize the list of items\n",
        "val = [60, 100, 120]\n",
        "wt = [10, 20, 30]\n",
        "w = 50\n",
        "n = len(val)\n",
        "\n",
        "#initialize the container for the values that have to be stored\n",
        "#values are initialized to -1\n",
        "calc =[[-1 for i in range(w+1)] for j in range(n+1)]\n",
        "\n",
        "\n",
        "def mem_knapSack(wt, val, w, n):\n",
        "  #base conditions\n",
        "  if n == 0 or w == 0:\n",
        "    return 0\n",
        "  if calc[n][w] != -1:\n",
        "    return calc[n][w]\n",
        "\n",
        "  #compute for the other cases\n",
        "  if wt[n-1] <= w:\n",
        "    calc[n][w] = max(val[n-1] + mem_knapSack(wt, val, w-wt[n-1], n-1),\n",
        "                     mem_knapSack(wt, val, w, n-1))\n",
        "    return calc[n][w]\n",
        "  elif wt[n-1] > w:\n",
        "    calc[n][w] = mem_knapSack(wt, val, w, n-1)\n",
        "    return calc[n][w]\n",
        "\n",
        "mem_knapSack(wt, val, w, n)"
      ],
      "metadata": {
        "id": "VgwTX-XT_0_h",
        "colab": {
          "base_uri": "https://localhost:8080/"
        },
        "outputId": "a1a8f492-0547-4092-df6a-247fbd079e33"
      },
      "id": "VgwTX-XT_0_h",
      "execution_count": null,
      "outputs": [
        {
          "output_type": "execute_result",
          "data": {
            "text/plain": [
              "220"
            ]
          },
          "metadata": {},
          "execution_count": 5
        }
      ]
    },
    {
      "cell_type": "markdown",
      "source": [
        "**Code Analysis**\n",
        "\n",
        "Type your answer here."
      ],
      "metadata": {
        "id": "-UXSSblDcF8T"
      },
      "id": "-UXSSblDcF8T"
    },
    {
      "cell_type": "markdown",
      "source": [
        "## Seatwork 2.1"
      ],
      "metadata": {
        "id": "IGsdUGCUcTFd"
      },
      "id": "IGsdUGCUcTFd"
    },
    {
      "cell_type": "markdown",
      "id": "0462053d",
      "metadata": {
        "id": "0462053d"
      },
      "source": [
        "Task 1: Modify the three techniques to include additional criterion in the knapsack problems"
      ]
    },
    {
      "cell_type": "code",
      "source": [
        "#RECURSION\n",
        "def rec_knapSack(w, wt, val, n):\n",
        "\n",
        "  if n == 0 or w == 0:\n",
        "    return 0\n",
        "\n",
        "  if(wt[n-1] > w):\n",
        "    return rec_knapSack(w, wt, val, n-1)\n",
        "  else:\n",
        "    return max(\n",
        "        val[n-1] + rec_knapSack(\n",
        "            w-wt[n-1], wt, val, n-1),\n",
        "            rec_knapSack(w, wt, val, n-1))\n",
        "\n",
        "val = [60, 100, 120, 500, 200, 66, 69, 143, 7]\n",
        "wt = [10, 20, 30, 40, 50, 11, 15, 16, 17]\n",
        "w = 90\n",
        "n = len(val)\n",
        "\n",
        "rec_knapSack(w, wt, val, n)"
      ],
      "metadata": {
        "colab": {
          "base_uri": "https://localhost:8080/"
        },
        "id": "V7kpkhr60qDh",
        "outputId": "d8f2a39d-56dd-42b4-fbed-c87890c92bbc"
      },
      "id": "V7kpkhr60qDh",
      "execution_count": null,
      "outputs": [
        {
          "output_type": "execute_result",
          "data": {
            "text/plain": [
              "809"
            ]
          },
          "metadata": {},
          "execution_count": 9
        }
      ]
    },
    {
      "cell_type": "code",
      "source": [
        "#DYNAMIC TABULATION\n",
        "def DP_knapSack(w, wt, val, n):\n",
        "  table = [[0 for x in range(w+1)] for x in range (n+1)]\n",
        "\n",
        "  for i in range(n+1):\n",
        "    for w in range(w+1):\n",
        "      if i == 0 or w == 0:\n",
        "        table[i][w] = 0\n",
        "      elif wt[i-1] <= w:\n",
        "        table[i][w] = max(val[i-1] + table[i-1][w-wt[i-1]],\n",
        "                          table[i-1][w])\n",
        "  return table[n][w]\n",
        "\n",
        "val = [60,70]\n",
        "wt = [10, 20, 30, 40, 50, 11, 15, 16, 17]\n",
        "w = 20\n",
        "n = len(val)\n",
        "\n",
        "DP_knapSack(w, wt, val, n)"
      ],
      "metadata": {
        "colab": {
          "base_uri": "https://localhost:8080/"
        },
        "id": "sUCyufEZ4Wrq",
        "outputId": "b72acd7b-5a12-4d1a-c5a6-471709c8fa32"
      },
      "id": "sUCyufEZ4Wrq",
      "execution_count": null,
      "outputs": [
        {
          "output_type": "execute_result",
          "data": {
            "text/plain": [
              "70"
            ]
          },
          "metadata": {},
          "execution_count": 20
        }
      ]
    },
    {
      "cell_type": "code",
      "source": [
        "#DYNAMIC MEMOIZATION\n",
        "val = [60, 80, 120, 120, 120, 120, 120]\n",
        "wt = [5, 5, 10, 1,2 ,3 ,4 ,5]\n",
        "w = 1\n",
        "n = len(val)\n",
        "\n",
        "calc =[[-1 for i in range(w+1)] for j in range(n+1)]\n",
        "\n",
        "\n",
        "def mem_knapSack(wt, val, w, n):\n",
        "  if n == 0 or w == 0:\n",
        "    return 0\n",
        "  if calc[n][w] != -1:\n",
        "    return calc[n][w]\n",
        "\n",
        "  if wt[n-1] <= w:\n",
        "    calc[n][w] = max(val[n-1] + mem_knapSack(wt, val, w-wt[n-1], n-1),\n",
        "                     mem_knapSack(wt, val, w, n-1))\n",
        "    return calc[n][w]\n",
        "  elif wt[n-1] > w:\n",
        "    calc[n][w] = mem_knapSack(wt, val, w, n-1)\n",
        "    return calc[n][w]\n",
        "\n",
        "mem_knapSack(wt, val, w, n)"
      ],
      "metadata": {
        "colab": {
          "base_uri": "https://localhost:8080/"
        },
        "id": "YJLsibwX1NAv",
        "outputId": "88242c2c-7112-4892-af18-9e06e967f675"
      },
      "id": "YJLsibwX1NAv",
      "execution_count": null,
      "outputs": [
        {
          "output_type": "execute_result",
          "data": {
            "text/plain": [
              "120"
            ]
          },
          "metadata": {},
          "execution_count": 27
        }
      ]
    },
    {
      "cell_type": "markdown",
      "id": "070ddd75",
      "metadata": {
        "id": "070ddd75"
      },
      "source": [
        "## Supplementary Problem (HOA 2.1 Submission):\n",
        "* Choose a real-life problem\n",
        "* Use recursion and dynamic programming to solve the problem"
      ]
    },
    {
      "cell_type": "markdown",
      "source": [
        "Below is the lists of the available projects for you to perform. Each of them have their own estimated days of creation and the amount of payment you will received once you have completed the project. You only have limited days to perform the projects and you want to know how much you can earn during your vacant days.\n",
        "\n",
        "![image.png](data:image/png;base64,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)"
      ],
      "metadata": {
        "id": "iDV-ZKWuCumK"
      },
      "id": "iDV-ZKWuCumK"
    },
    {
      "cell_type": "code",
      "execution_count": null,
      "id": "73b071b6",
      "metadata": {
        "id": "73b071b6",
        "colab": {
          "base_uri": "https://localhost:8080/"
        },
        "outputId": "9fb9c8ca-9ffe-4a49-ec55-4a17958437c0"
      },
      "outputs": [
        {
          "output_type": "stream",
          "name": "stdout",
          "text": [
            "Enter the how many vacant days you have: 20\n",
            "The maximum amount of payment you can receive is 3200 Pesos within the vacant of 20 days\n"
          ]
        }
      ],
      "source": [
        "#SOLVING THE PROBLEM USING RECURSSION\n",
        "\n",
        "def rec_knapSack(vac, d, pay, n):\n",
        "\n",
        "  if n == 0 or vac == 0:\n",
        "    return 0\n",
        "\n",
        "  if(d[n-1] > vac):\n",
        "    return rec_knapSack(vac, d, pay, n-1)\n",
        "\n",
        "  else:\n",
        "    return max(\n",
        "        pay[n-1] + rec_knapSack(vac-d[n-1], d, pay, n-1),rec_knapSack(vac, d, pay, n-1))\n",
        "\n",
        "vacant = int(input(\"Enter the how many vacant days you have: \"))\n",
        "#proj = [\"Project 1\", \"Project 2\", \"Project 3\", \"Project 4\", \"Project 5\", \"Project 6\", \"Project 7\", ]\n",
        "payment = [500, 250, 1500, 1200, 800, 1200, 400]\n",
        "days = [4, 3, 10, 12, 9, 6, 2]\n",
        "n = len(payment)\n",
        "\n",
        "print(\"The maximum amount of payment you can receive is\", rec_knapSack(vacant, days, payment, n),\"Pesos\", f\"within the vacant of {vacant} days\")"
      ]
    },
    {
      "cell_type": "code",
      "source": [
        "#SOLVING THE PROBLEM USING DYNAMIC PROGRAMMING (MEMOIZATION)\n",
        "\n",
        "vacant = int(input(\"Enter the how many vacant days you have: \"))\n",
        "payment = [500, 250, 1500, 1200, 800, 1200, 400]\n",
        "days = [4, 3, 10, 12, 9, 6, 2]\n",
        "n = len(payment)\n",
        "\n",
        "calc =[[-1 for i in range(vacant+1)] for j in range(n+1)]\n",
        "\n",
        "\n",
        "def mem_knapSack(d, pay, vac, n):\n",
        "  if n == 0 or vac == 0:\n",
        "    return 0\n",
        "  if calc[n][vac] != -1:\n",
        "    return calc[n][vac]\n",
        "\n",
        "  if d[n-1] <= vac:\n",
        "    calc[n][vac] = max(pay[n-1] + mem_knapSack(d, pay, vac-d[n-1], n-1),\n",
        "                     mem_knapSack(d, pay, vac, n-1))\n",
        "    return calc[n][vac]\n",
        "  elif d[n-1] > vac:\n",
        "    calc[n][vac] = mem_knapSack(d, pay, vac, n-1)\n",
        "    return calc[n][vac]\n",
        "\n",
        "print(\"The maximum amount of payment you can receive is\", mem_knapSack(days, payment, vacant, n),\"Pesos\", f\"within the vacant of {vacant} days\")"
      ],
      "metadata": {
        "id": "NXF0fUPPH_75",
        "colab": {
          "base_uri": "https://localhost:8080/"
        },
        "outputId": "1bbc3fd3-7ab5-4b8f-ba7d-58dd563560e1"
      },
      "id": "NXF0fUPPH_75",
      "execution_count": null,
      "outputs": [
        {
          "output_type": "stream",
          "name": "stdout",
          "text": [
            "Enter the how many vacant days you have: 5\n",
            "The maximum amount of payment you can receive is 650 Pesos within the vacant of 5 days\n"
          ]
        }
      ]
    },
    {
      "cell_type": "code",
      "source": [
        "#SOLVING THE PROBLEM USING DYNAMIC PROGRAMMING (TABULATION)\n",
        "def DP_knapSack(w, wt, val, n):\n",
        "  table = [[0 for x in range(w+1)] for x in range (n+1)]\n",
        "\n",
        "  for i in range(n+1):\n",
        "    for w in range(w+1):\n",
        "      if i == 0 or w == 0:\n",
        "        table[i][w] = 0\n",
        "      elif wt[i-1] <= w:\n",
        "        table[i][w] = max(val[i-1] + table[i-1][w-wt[i-1]],\n",
        "                          table[i-1][w])\n",
        "  return table[n][w]\n",
        "\n",
        "vacant = int(input(\"Enter the how many vacant days you have: \"))\n",
        "payment = [500, 250, 1500, 1200, 800, 1200, 400]\n",
        "days = [4, 3, 10, 12, 9, 6, 2]\n",
        "n = len(payment)\n",
        "\n",
        "print(\"The maximum amount of payment you can receive is\", DP_knapSack(vacant, days, payment, n),\"Pesos\", f\"within the vacant of {vacant} days\")"
      ],
      "metadata": {
        "colab": {
          "base_uri": "https://localhost:8080/"
        },
        "id": "636v0bDpe8XC",
        "outputId": "b11340af-dd5a-413c-91b7-00a910fdd169"
      },
      "id": "636v0bDpe8XC",
      "execution_count": null,
      "outputs": [
        {
          "output_type": "stream",
          "name": "stdout",
          "text": [
            "Enter the how many vacant days you have: 5\n",
            "The maximum amount of payment you can receive is 400 Pesos within the vacant of 5 days\n"
          ]
        }
      ]
    },
    {
      "cell_type": "markdown",
      "id": "bb0ed6a9",
      "metadata": {
        "id": "bb0ed6a9"
      },
      "source": [
        "#### Conclusion"
      ]
    },
    {
      "cell_type": "markdown",
      "source": [
        "• Different aprroaches can be used in solving a problem using programming, in this activity, we have tried different techniques to solve knapsack problem, like the recursion, tabulation, and memoization. All of them have their own advantages and disadvantages, depending on which problem are you trying to solve.\n",
        "\n",
        "• In the recursion, we do not use temporary storage for the solved equation. For example, we are now starting to backtrack solving our fibonacci function, if you have solved an equation(ex: fibonacci(2)), and we encounter it once again during our backtracking, the code will try to solve it again. Unlike in the memoization, if the code have solved an equation (same example as above), it will get stored in a dictionary so that whenever we encounter the same equation, the key of the dictionary will get called instead to return its value."
      ],
      "metadata": {
        "id": "2hdecZnmMLuY"
      },
      "id": "2hdecZnmMLuY"
    }
  ],
  "metadata": {
    "kernelspec": {
      "display_name": "Python 3",
      "language": "python",
      "name": "python3"
    },
    "language_info": {
      "codemirror_mode": {
        "name": "ipython",
        "version": 3
      },
      "file_extension": ".py",
      "mimetype": "text/x-python",
      "name": "python",
      "nbconvert_exporter": "python",
      "pygments_lexer": "ipython3",
      "version": "3.7.10"
    },
    "colab": {
      "provenance": []
    }
  },
  "nbformat": 4,
  "nbformat_minor": 5
}